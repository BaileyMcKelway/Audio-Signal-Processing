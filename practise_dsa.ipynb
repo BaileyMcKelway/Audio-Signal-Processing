{
 "cells": [
  {
   "cell_type": "markdown",
   "metadata": {},
   "source": [
    "1. Write a Python program to create a Balanced Binary Search Tree (BST) using an array\n",
    "(given) elements where array elements are sorted in ascending order."
   ]
  },
  {
   "cell_type": "code",
   "execution_count": 124,
   "metadata": {},
   "outputs": [
    {
     "name": "stdout",
     "output_type": "stream",
     "text": [
      "4\n",
      "2\n",
      "1\n",
      "3\n",
      "6\n",
      "5\n",
      "7\n"
     ]
    }
   ],
   "source": [
    "class Node:\n",
    "    \n",
    "    def __init__(self, root):\n",
    "        self.value = root\n",
    "        self.left = None\n",
    "        self.right = None\n",
    "    \n",
    "def sort_to_bst(nums):\n",
    "\n",
    "    if not nums:\n",
    "        return\n",
    "\n",
    "    mid_val = len(nums) // 2\n",
    "    node = Node(nums[mid_val])\n",
    "    node.left = sort_to_bst(nums[:mid_val])\n",
    "    node.right = sort_to_bst(nums[mid_val+1:])\n",
    "    return node\n",
    "    \n",
    "def printPreOrder(root):\n",
    "    if not root:\n",
    "        return\n",
    "    print(root.value)\n",
    "    printPreOrder(root.left)\n",
    "    printPreOrder(root.right)\n",
    "    \n",
    "def printInorder(root): \n",
    "    if root:  \n",
    "        printInorder(root.left) \n",
    "        print(root.value)\n",
    "        printInorder(root.right) \n",
    "        \n",
    "def printPostorder(root):   \n",
    "    if root: \n",
    "        printPostorder(root.left) \n",
    "        printPostorder(root.right) \n",
    "        print(root.value)\n",
    "        \n",
    "results = [1, 2, 3, 4, 5, 6, 7]\n",
    "node = sort_to_bst(results)\n",
    "printPreOrder(node)"
   ]
  },
  {
   "cell_type": "markdown",
   "metadata": {},
   "source": [
    "2. Write a Python program to find the closest value of a given target value in a given nonempty Binary Search Tree (BST) of unique values."
   ]
  },
  {
   "cell_type": "code",
   "execution_count": 125,
   "metadata": {},
   "outputs": [],
   "source": [
    "def closest_value(root, target):\n",
    "    if root == None: return\n",
    "    if target is None: return\n",
    "    \n",
    "    a = root.value\n",
    "    \n",
    "    if(target < a):\n",
    "        kid = root.left\n",
    "    else:\n",
    "        kid = root.right\n",
    "    \n",
    "    if not kid:\n",
    "        return a\n",
    "    \n",
    "    b = closest_value(kid, target)\n",
    "    \n",
    "    keya = abs(target-a)\n",
    "    keyb = abs(target-b)\n",
    "    \n",
    "    if keya < keyb:\n",
    "        return a\n",
    "    else:\n",
    "        return b"
   ]
  },
  {
   "cell_type": "code",
   "execution_count": 126,
   "metadata": {},
   "outputs": [
    {
     "name": "stdout",
     "output_type": "stream",
     "text": [
      "1\n"
     ]
    }
   ],
   "source": [
    "solution = closest_value(node, 0)\n",
    "print(solution)"
   ]
  },
  {
   "cell_type": "markdown",
   "metadata": {},
   "source": [
    "3. Write a Python program to check whether a given a binary tree is a valid binary search\n",
    "tree (BST) or not"
   ]
  },
  {
   "cell_type": "code",
   "execution_count": 127,
   "metadata": {},
   "outputs": [],
   "source": [
    "# Python program to check if a binary tree is bst or not \n",
    "  \n",
    "INT_MAX = 4294967296\n",
    "INT_MIN = -4294967296\n",
    "\n",
    "def is_BST(root, min_value, max_value):\n",
    "    \n",
    "    if root is None:\n",
    "        return True\n",
    "    \n",
    "    if (root.value > min_value & root.value < max_value):\n",
    "        return True\n",
    "    else:\n",
    "        return False\n",
    "    \n",
    "    return (is_BST(root.left, min_value, root.value) and is_BST(root.right, root.value, max_value))\n",
    "    \n",
    "def isBinarySearchTree(root):\n",
    "    return (is_BST(root, INT_MIN, INT_MAX))"
   ]
  },
  {
   "cell_type": "code",
   "execution_count": 128,
   "metadata": {},
   "outputs": [
    {
     "data": {
      "text/plain": [
       "True"
      ]
     },
     "execution_count": 128,
     "metadata": {},
     "output_type": "execute_result"
    }
   ],
   "source": [
    "isBinarySearchTree(node)"
   ]
  },
  {
   "cell_type": "markdown",
   "metadata": {},
   "source": [
    "4. Write a Python program to delete a node with the given key in a given Binary search\n",
    "tree (BST)."
   ]
  },
  {
   "cell_type": "code",
   "execution_count": 129,
   "metadata": {},
   "outputs": [],
   "source": [
    "def minValueNode(node):\n",
    "    \n",
    "    current = node\n",
    "    \n",
    "    while(current.left is not None):\n",
    "        current = current.left\n",
    "        \n",
    "    return current"
   ]
  },
  {
   "cell_type": "code",
   "execution_count": 130,
   "metadata": {},
   "outputs": [],
   "source": [
    "def delete_Node(root, target):\n",
    "    \n",
    "    if root == None: return\n",
    "    elif root.value > target:\n",
    "        root.right = delete_Node(root.right, target)\n",
    "    elif root.value < target:\n",
    "        root.left = delete_Node(root.left, target)\n",
    "    else:\n",
    "        # If there is no child\n",
    "        # Node with only one child or no child \n",
    "        if root.left is None:\n",
    "            temp = root.right\n",
    "            root = None\n",
    "            return temp\n",
    "        \n",
    "        elif root.right is None:\n",
    "            temp = root.left\n",
    "            root = None\n",
    "            return temp\n",
    "        \n",
    "        # 1)You need to find the min in the right subnode\n",
    "        # or the max in the left subnode\n",
    "        # 2) Copy the value in targetted node\n",
    "        # 3) Delete the duplicate form right-subtree\n",
    "        \n",
    "        # Node with two children: Get the inorder successor \n",
    "        # (smallest in the right subtree) \n",
    "        temp = minValueNode(root.right) \n",
    "  \n",
    "        # Copy the inorder successor's content to this node \n",
    "        root.value = temp.value \n",
    "  \n",
    "        # Delete the inorder successor \n",
    "        root.right = delete_Node(root.right , temp.value) \n",
    "  \n",
    "    return root"
   ]
  },
  {
   "cell_type": "code",
   "execution_count": 131,
   "metadata": {},
   "outputs": [
    {
     "name": "stdout",
     "output_type": "stream",
     "text": [
      "4\n",
      "2\n",
      "1\n",
      "3\n",
      "6\n",
      "5\n",
      "7\n"
     ]
    }
   ],
   "source": [
    "printPreOrder(node)"
   ]
  },
  {
   "cell_type": "code",
   "execution_count": 132,
   "metadata": {},
   "outputs": [],
   "source": [
    "new_node = delete_Node(node, 4)"
   ]
  },
  {
   "cell_type": "code",
   "execution_count": 133,
   "metadata": {},
   "outputs": [
    {
     "name": "stdout",
     "output_type": "stream",
     "text": [
      "5\n",
      "2\n",
      "1\n",
      "3\n",
      "6\n",
      "5\n",
      "7\n"
     ]
    }
   ],
   "source": [
    "printPreOrder(new_node)"
   ]
  },
  {
   "cell_type": "markdown",
   "metadata": {},
   "source": [
    "Inserting an element into a binary search tree"
   ]
  },
  {
   "cell_type": "code",
   "execution_count": 134,
   "metadata": {},
   "outputs": [],
   "source": [
    "# A utility function to insert a new node with given key in BST \n",
    "def insert(node, key): \n",
    "  \n",
    "    # If the tree is empty, return a new node \n",
    "    if node is None: \n",
    "        return Node(key) \n",
    "  \n",
    "    # Otherwise recur down the tree \n",
    "    if key < node.value: \n",
    "        node.left = insert(node.left, key) \n",
    "    else: \n",
    "        node.right = insert(node.right, key) \n",
    "  \n",
    "    # return the (unchanged) node pointer \n",
    "    return node "
   ]
  },
  {
   "cell_type": "markdown",
   "metadata": {},
   "source": [
    "5. Write a Python program to find the kth smallest element in a given a binary search tree."
   ]
  },
  {
   "cell_type": "code",
   "execution_count": 135,
   "metadata": {},
   "outputs": [],
   "source": [
    "def findKthSmallestElement(root, k):\n",
    "    \n",
    "    current = root\n",
    "    kth_value = k\n",
    "    \n",
    "    if root is None:\n",
    "        return\n",
    "    \n",
    "    while(current.left != None):\n",
    "        kth_value = kth_value - 1\n",
    "        current = current.left\n",
    "        \n",
    "        if(k == 0):\n",
    "            return root.value\n",
    "    \n",
    "    return current.value"
   ]
  },
  {
   "cell_type": "code",
   "execution_count": 136,
   "metadata": {},
   "outputs": [],
   "source": [
    "a = findKthSmallestElement(node, 2)"
   ]
  },
  {
   "cell_type": "code",
   "execution_count": 137,
   "metadata": {},
   "outputs": [
    {
     "name": "stdout",
     "output_type": "stream",
     "text": [
      "1\n"
     ]
    }
   ],
   "source": [
    "print(a)"
   ]
  },
  {
   "cell_type": "markdown",
   "metadata": {},
   "source": [
    "Create a binary tree with these properties"
   ]
  },
  {
   "cell_type": "code",
   "execution_count": 138,
   "metadata": {},
   "outputs": [],
   "source": [
    "tree = Node(11)\n",
    "tree.left = Node(8)\n",
    "tree.right = Node(16)\n",
    "tree.left.left = Node(5)\n",
    "tree.left.right = Node(10)\n",
    "\n",
    "tree.right = Node(16)\n",
    "tree.right.right = Node(18)"
   ]
  },
  {
   "cell_type": "code",
   "execution_count": 139,
   "metadata": {},
   "outputs": [
    {
     "name": "stdout",
     "output_type": "stream",
     "text": [
      "11\n",
      "8\n",
      "5\n",
      "10\n",
      "16\n",
      "18\n"
     ]
    }
   ],
   "source": [
    "printPreOrder(tree)"
   ]
  },
  {
   "cell_type": "code",
   "execution_count": 140,
   "metadata": {},
   "outputs": [],
   "source": [
    "class FamilyTree:\n",
    "    \n",
    "    def __init__(self, x):\n",
    "        self.father = x\n",
    "        self.child = []\n",
    "        \n",
    "    def setChildren(self, values):\n",
    "        for i in values:\n",
    "            self.child.append(i)"
   ]
  },
  {
   "cell_type": "code",
   "execution_count": 141,
   "metadata": {},
   "outputs": [],
   "source": [
    "family = FamilyTree(['Kalu', 'Mary'])\n",
    "family.setChildren(['David', 'Nnanna', 'Amarachi'])"
   ]
  },
  {
   "cell_type": "code",
   "execution_count": 142,
   "metadata": {},
   "outputs": [
    {
     "data": {
      "text/plain": [
       "['Kalu', 'Mary']"
      ]
     },
     "execution_count": 142,
     "metadata": {},
     "output_type": "execute_result"
    }
   ],
   "source": [
    "family.father"
   ]
  },
  {
   "cell_type": "code",
   "execution_count": 143,
   "metadata": {},
   "outputs": [],
   "source": [
    "second = FamilyTree([family.child[0], 'Ray'])\n",
    "second.setChildren(['David', 'Miracle'])"
   ]
  },
  {
   "cell_type": "code",
   "execution_count": 144,
   "metadata": {},
   "outputs": [
    {
     "data": {
      "text/plain": [
       "['David', 'Miracle']"
      ]
     },
     "execution_count": 144,
     "metadata": {},
     "output_type": "execute_result"
    }
   ],
   "source": [
    "second.child"
   ]
  },
  {
   "cell_type": "code",
   "execution_count": 145,
   "metadata": {},
   "outputs": [],
   "source": [
    "array = [50, 76, 21, 4, 32, 100, 64, 52]\n",
    "array.sort()"
   ]
  },
  {
   "cell_type": "code",
   "execution_count": 146,
   "metadata": {},
   "outputs": [],
   "source": [
    "test_tree = sort_to_bst(array)"
   ]
  },
  {
   "cell_type": "code",
   "execution_count": 147,
   "metadata": {},
   "outputs": [
    {
     "data": {
      "text/plain": [
       "76"
      ]
     },
     "execution_count": 147,
     "metadata": {},
     "output_type": "execute_result"
    }
   ],
   "source": [
    "test_tree.right.value"
   ]
  },
  {
   "cell_type": "code",
   "execution_count": 148,
   "metadata": {},
   "outputs": [
    {
     "name": "stdout",
     "output_type": "stream",
     "text": [
      "4\n",
      "21\n",
      "32\n",
      "50\n",
      "52\n",
      "64\n",
      "76\n",
      "100\n"
     ]
    }
   ],
   "source": [
    "inOrder(test_tree)"
   ]
  },
  {
   "cell_type": "code",
   "execution_count": 149,
   "metadata": {},
   "outputs": [],
   "source": [
    "new_tree = delete_Node(test_tree, 100)"
   ]
  },
  {
   "cell_type": "code",
   "execution_count": 150,
   "metadata": {},
   "outputs": [
    {
     "name": "stdout",
     "output_type": "stream",
     "text": [
      "4\n",
      "21\n",
      "32\n",
      "50\n",
      "52\n",
      "64\n",
      "76\n",
      "100\n"
     ]
    }
   ],
   "source": [
    "inOrder(test_tree)"
   ]
  },
  {
   "cell_type": "code",
   "execution_count": 151,
   "metadata": {},
   "outputs": [
    {
     "name": "stdout",
     "output_type": "stream",
     "text": [
      "52\n",
      "32\n",
      "21\n",
      "4\n",
      "50\n",
      "76\n",
      "64\n",
      "100\n"
     ]
    }
   ],
   "source": [
    "printPreOrder(test_tree)"
   ]
  },
  {
   "cell_type": "markdown",
   "metadata": {},
   "source": [
    "Breath First Search, binary tree"
   ]
  },
  {
   "cell_type": "code",
   "execution_count": 152,
   "metadata": {},
   "outputs": [],
   "source": [
    "def breadth_first_search(root):\n",
    "    to_visit = []\n",
    "    if root is None:\n",
    "        return\n",
    "    \n",
    "    to_visit.append(root)\n",
    "    \n",
    "    while to_visit:\n",
    "        current = to_visit.pop(0)\n",
    "        print(current.value)\n",
    "        if current.left:\n",
    "            to_visit.append(current.left)\n",
    "        if current.right:\n",
    "            to_visit.append(current.right)"
   ]
  },
  {
   "cell_type": "code",
   "execution_count": 153,
   "metadata": {},
   "outputs": [
    {
     "name": "stdout",
     "output_type": "stream",
     "text": [
      "5\n",
      "2\n",
      "6\n",
      "1\n",
      "3\n",
      "5\n",
      "7\n"
     ]
    }
   ],
   "source": [
    "breadth_first_search(node) # bfs"
   ]
  },
  {
   "cell_type": "code",
   "execution_count": 186,
   "metadata": {},
   "outputs": [
    {
     "name": "stdout",
     "output_type": "stream",
     "text": [
      "5\n",
      "2\n",
      "1\n",
      "3\n",
      "6\n",
      "5\n",
      "7\n"
     ]
    }
   ],
   "source": [
    "printPreOrder(node) #dfs"
   ]
  },
  {
   "cell_type": "markdown",
   "metadata": {},
   "source": [
    "### Topological sort"
   ]
  },
  {
   "cell_type": "code",
   "execution_count": 336,
   "metadata": {},
   "outputs": [],
   "source": [
    "from collections import defaultdict"
   ]
  },
  {
   "cell_type": "code",
   "execution_count": 344,
   "metadata": {},
   "outputs": [],
   "source": [
    "adjacent_list = {'a' : ['d'], \n",
    "                'b' : ['d'],\n",
    "                'c' : ['e'],\n",
    "                'd' : ['e'],\n",
    "                'e' : []}"
   ]
  },
  {
   "cell_type": "code",
   "execution_count": 345,
   "metadata": {},
   "outputs": [],
   "source": [
    "visited_list = defaultdict()\n",
    "visited_list['a'] = False\n",
    "visited_list['b'] = False\n",
    "visited_list['c'] = False\n",
    "visited_list['d'] = False\n",
    "visited_list['e'] = False\n",
    "\n",
    "output_stack = []"
   ]
  },
  {
   "cell_type": "code",
   "execution_count": 346,
   "metadata": {},
   "outputs": [],
   "source": [
    "def topology_sort(vertex):\n",
    "    \n",
    "    if not visited_list[vertex]:\n",
    "        visited_list[vertex] = True\n",
    "        for neighbour in adjacent_list[vertex]:\n",
    "            topology_sort(neighbour)\n",
    "        output_stack.insert(0, vertex)"
   ]
  },
  {
   "cell_type": "code",
   "execution_count": 348,
   "metadata": {},
   "outputs": [],
   "source": [
    "for vertex in visited_list:\n",
    "    topology_sort(vertex)"
   ]
  },
  {
   "cell_type": "code",
   "execution_count": 349,
   "metadata": {},
   "outputs": [
    {
     "data": {
      "text/plain": [
       "['c', 'b', 'a', 'd', 'e']"
      ]
     },
     "execution_count": 349,
     "metadata": {},
     "output_type": "execute_result"
    }
   ],
   "source": [
    "output_stack"
   ]
  },
  {
   "cell_type": "markdown",
   "metadata": {},
   "source": [
    "### Merge sort"
   ]
  },
  {
   "cell_type": "code",
   "execution_count": 300,
   "metadata": {},
   "outputs": [
    {
     "data": {
      "text/plain": [
       "[0, 1, 2, 5, 5, 5, 6, 7, 8, 16]"
      ]
     },
     "execution_count": 300,
     "metadata": {},
     "output_type": "execute_result"
    }
   ],
   "source": [
    "def mergeSort(x):\n",
    "   \n",
    "    if len(x) > 1:\n",
    "        mid = len(x) // 2\n",
    "    \n",
    "        left = x[:mid]\n",
    "        right = x[mid:]\n",
    "        \n",
    "        mergeSort(left)\n",
    "        mergeSort(right)\n",
    "        \n",
    "        i = j = k = 0\n",
    "\n",
    "        while(i < len(left) and j < len(right)):\n",
    "            \n",
    "            if(left[i] < right[j]):\n",
    "                x[k] = left[i]\n",
    "                i = i + 1\n",
    "            else:\n",
    "                x[k] = right[j]\n",
    "                j = j + 1\n",
    "\n",
    "            k = k + 1\n",
    "\n",
    "        while (i < len(left)):\n",
    "            x[k] = left[i]\n",
    "            i = i + 1\n",
    "            k = k + 1\n",
    "\n",
    "        while (j < len(right)):\n",
    "            x[k] = right[j]\n",
    "            j = j + 1\n",
    "            k = k + 1\n",
    "    \n",
    "    return x\n",
    "\n",
    "dummy = [16, 2, 5, 8, 5, 5, 7, 1, 0, 6]\n",
    "a = mergeSort(dummy)\n",
    "a"
   ]
  },
  {
   "cell_type": "markdown",
   "metadata": {},
   "source": [
    "### Quick sort"
   ]
  },
  {
   "cell_type": "code",
   "execution_count": 301,
   "metadata": {},
   "outputs": [],
   "source": [
    "def choosePivot(arr, low, high):\n",
    "    from random import randrange\n",
    "    random = randrange(low, high)\n",
    "    return random"
   ]
  },
  {
   "cell_type": "code",
   "execution_count": 302,
   "metadata": {},
   "outputs": [],
   "source": [
    "def partition(arr, low, high):\n",
    "    \n",
    "    i = (low-1)\n",
    "    pivot = arr[high]\n",
    "    \n",
    "    for j in range(low, high):\n",
    "        \n",
    "        if arr[j] <= pivot:\n",
    "            \n",
    "            i = i + 1\n",
    "            arr[i], arr[j] = arr[j], arr[i]\n",
    "            \n",
    "    arr[i+1], arr[high] = arr[high], arr[i+1]\n",
    "    return (i+1)"
   ]
  },
  {
   "cell_type": "code",
   "execution_count": 307,
   "metadata": {},
   "outputs": [],
   "source": [
    "def quickSortUtil(array, left, right):\n",
    "    if(left >= right):\n",
    "        return array\n",
    "    else:\n",
    "        i = choosePivot(array, left, right)\n",
    "        array[i], array[right] = array[right], array[i]\n",
    "        pivot = partition(array, left, right)\n",
    "        \n",
    "        quickSortUtil(array, left, pivot-1)\n",
    "        quickSortUtil(array, pivot+1, right)\n",
    "        \n",
    "        return array\n",
    "    \n",
    "def quickSort(array):\n",
    "    return (quickSortUtil(array, 0, len(array)-1))"
   ]
  },
  {
   "cell_type": "code",
   "execution_count": 308,
   "metadata": {},
   "outputs": [
    {
     "data": {
      "text/plain": [
       "[0, 1, 2, 5, 5, 5, 6, 7, 8, 16]"
      ]
     },
     "execution_count": 308,
     "metadata": {},
     "output_type": "execute_result"
    }
   ],
   "source": [
    "dummy = [16, 2, 5, 8, 5, 5, 7, 1, 0, 6]\n",
    "b = quickSort(dummy)\n",
    "b"
   ]
  },
  {
   "cell_type": "markdown",
   "metadata": {},
   "source": [
    "### Strassan Algorithm"
   ]
  },
  {
   "cell_type": "code",
   "execution_count": 367,
   "metadata": {},
   "outputs": [
    {
     "name": "stdout",
     "output_type": "stream",
     "text": [
      "[[8 4 3 1 8 3 8 0]\n",
      " [6 1 4 2 3 6 2 2]\n",
      " [0 5 5 0 1 0 6 2]\n",
      " [8 6 4 9 1 5 7 0]\n",
      " [3 5 8 7 5 0 7 5]\n",
      " [8 8 0 2 8 8 7 8]\n",
      " [4 5 7 8 2 5 1 6]\n",
      " [6 5 7 8 9 8 0 3]]\n",
      "[[2 2 6 3 5 0 0 0]\n",
      " [6 9 6 7 0 0 8 5]\n",
      " [3 6 9 6 5 9 3 2]\n",
      " [1 4 3 0 1 5 0 8]\n",
      " [0 0 1 2 6 5 0 3]\n",
      " [5 2 3 4 4 1 1 6]\n",
      " [3 0 7 1 9 9 7 0]\n",
      " [0 3 8 0 3 4 0 6]]\n"
     ]
    }
   ],
   "source": [
    "x = np.random.randint(0, 10, (8, 8)) # Created an array 1\n",
    "y = np.random.randint(0, 10, (8, 8)) # Created an array 2\n",
    "\n",
    "print(x) # print\n",
    "print(y)"
   ]
  },
  {
   "cell_type": "code",
   "execution_count": 371,
   "metadata": {},
   "outputs": [
    {
     "data": {
      "text/plain": [
       "array([[ 89,  80, 175, 106, 188, 147, 100,  76],\n",
       "       [ 68,  71, 135,  81, 118,  93,  40,  86],\n",
       "       [ 63,  81, 134,  73,  91, 112,  97,  50],\n",
       "       [119, 140, 212, 119, 158, 154, 114, 143],\n",
       "       [ 88, 142, 235, 109, 170, 215, 113, 142],\n",
       "       [127, 136, 247, 135, 209, 153, 121, 176],\n",
       "       [ 95, 155, 213, 114, 122, 151,  73, 175],\n",
       "       [111, 156, 210, 145, 168, 168,  69, 196]])"
      ]
     },
     "execution_count": 371,
     "metadata": {},
     "output_type": "execute_result"
    }
   ],
   "source": [
    "def splitMatrix(x):\n",
    "    row, col = x.shape\n",
    "    return x[:row//2, :col//2], x[:row//2, col//2:], x[row//2:, :col//2], x[row//2:, col//2:]\n",
    "\n",
    "def strassanAlgorithm(x, y):\n",
    "  \n",
    "    if(len(x) == 1):\n",
    "        return x * y\n",
    "    \n",
    "    a, b, c, d = splitMatrix(x)\n",
    "    e, f, g, h = splitMatrix(y)\n",
    "\n",
    "    p1 = strassanAlgorithm(a, f-h)\n",
    "    p2 = strassanAlgorithm(a + b, h)\n",
    "    p3 = strassanAlgorithm(c + d, e)\n",
    "    p4 = strassanAlgorithm(d, g - e)\n",
    "    p5 = strassanAlgorithm(a + d, e + h)\n",
    "    p6 = strassanAlgorithm(b - d, g + h)\n",
    "    p7 = strassanAlgorithm(a - c, e + f)\n",
    "\n",
    "\n",
    "    x1 = p5 + p4 - p2 + p6\n",
    "    x2 = p1 + p2\n",
    "    x3 = p3 + p4\n",
    "    x4 = p1 + p5 - p3 - p7\n",
    "\n",
    "    return np.vstack((np.hstack([x1, x2]), np.hstack([x3, x4])))\n",
    "\n",
    "\n",
    "a = strassanAlgorithm(x, y)\n",
    "a"
   ]
  },
  {
   "cell_type": "markdown",
   "metadata": {},
   "source": [
    "### Straight forward approach"
   ]
  },
  {
   "cell_type": "code",
   "execution_count": 373,
   "metadata": {},
   "outputs": [],
   "source": [
    "def straightForwardApproach(x, y):\n",
    "    result = [] # final result\n",
    "    for i in range(len(x)):\n",
    "\n",
    "        row = [] # the new row in new matrix\n",
    "        for j in range(len(y)):\n",
    "            product = 0 # the new element in the new row\n",
    "            for k in range(len(x[i])):\n",
    "                product += x[i][k] * y[k][j]\n",
    "            row.append(product) # append sum of product into the new row\n",
    "        result.append(row) # append the new row into the final result\n",
    "    return result"
   ]
  },
  {
   "cell_type": "markdown",
   "metadata": {},
   "source": [
    "### Integer Recursive Multiplication"
   ]
  },
  {
   "cell_type": "code",
   "execution_count": 335,
   "metadata": {},
   "outputs": [
    {
     "data": {
      "text/plain": [
       "2878922"
      ]
     },
     "execution_count": 335,
     "metadata": {},
     "output_type": "execute_result"
    }
   ],
   "source": [
    "def recursiveAlgorithm(x, y):\n",
    "    if (x < 10 and y < 10):\n",
    "        return x * y\n",
    "    else:\n",
    "        x = str(x)\n",
    "        y = str(y)\n",
    "        n = max(len(x), len(y))\n",
    "        \n",
    "        j = n // 2\n",
    "\n",
    "        a = int(x) / 10**(j) # first half (1)\n",
    "        b = int(x) % 10**(j) # second half (1)\n",
    "\n",
    "        c = int(y) / 10**(j) # first half (2)\n",
    "        d = int(y) % 10**(j) # second half (2)\n",
    "\n",
    "        a = int(a)\n",
    "        b = int(b)\n",
    "        c = int(c)\n",
    "        d = int(d)\n",
    "        \n",
    "        ac = recursiveAlgorithm(a, c)\n",
    "        ad = recursiveAlgorithm(a, d)\n",
    "        bc = recursiveAlgorithm(b, c)\n",
    "        bd = recursiveAlgorithm(b, d)\n",
    "        \n",
    "        return (ac * 10 ** (2*j)) + (10 ** j * (ad+bc))+ bd\n",
    "    \n",
    "x = 1234\n",
    "y = 2333\n",
    "\n",
    "a = recursiveAlgorithm(x, y)\n",
    "a"
   ]
  },
  {
   "cell_type": "code",
   "execution_count": null,
   "metadata": {},
   "outputs": [],
   "source": [
    "def karaturbaAlgorithm(x, y):\n",
    "  # If the len of the a & b == 1, then just return the base case.\n",
    "  if(x < 10 and  y < 10):\n",
    "    return x * y\n",
    "  else:\n",
    "    # Length of the digits\n",
    "    x = str(x)\n",
    "    y = str(y)\n",
    "    n = max(len(x), len(y))\n",
    "   \n",
    "    j = n // 2\n",
    " \n",
    "    a = int(x) / 10**(j) # first half (1)\n",
    "    b = int(x) % 10**(j) # second half (1)\n",
    "\n",
    "    c = int(y) / 10**(j) # first half (2)\n",
    "    d = int(y) % 10**(j) # second half (2)\n",
    "    \n",
    "    a = int(a)\n",
    "    b = int(b)\n",
    "    c = int(c)\n",
    "    d = int(d)\n",
    "    \n",
    "    p = a + b\n",
    "    q = c + d\n",
    "    # recursively compute the first and second half of the array\n",
    "    ac = karaturbaAlgorithm(a, c)\n",
    "    bd = karaturbaAlgorithm(b, d)\n",
    "    pq = karaturbaAlgorithm(p, q)\n",
    "    adbc = pq - ac - bd\n",
    "    \n",
    "    return ac * 10**(2*j) +  (10**j * adbc) + bd"
   ]
  },
  {
   "cell_type": "code",
   "execution_count": 334,
   "metadata": {},
   "outputs": [
    {
     "data": {
      "text/plain": [
       "(2, 2)"
      ]
     },
     "execution_count": 334,
     "metadata": {},
     "output_type": "execute_result"
    }
   ],
   "source": [
    "import numpy as np\n",
    "a = np.array([[1, 2],[2, 3]])\n",
    "a.shape"
   ]
  },
  {
   "cell_type": "markdown",
   "metadata": {},
   "source": [
    "### Graphs"
   ]
  },
  {
   "cell_type": "code",
   "execution_count": 354,
   "metadata": {},
   "outputs": [],
   "source": [
    "def dijsktra(graph, initial):\n",
    "    visited = {initial: 0} #Mark all nodes unvisited,set the initial node distance to 0\n",
    "    path = {}\n",
    "\n",
    "    nodes = set(graph.nodes)#set of unvisited vertices\n",
    "\n",
    "    while nodes: #while there is an element in the unvisited list\n",
    "        min_node = None #Assigning a value of None to a variable is one way to reset it to its original, empty state.\n",
    "        for node in nodes:\n",
    "            if node in visited:\n",
    "                if min_node is None:\n",
    "                    min_node = node #min node becomes the the node from the ser of unvisited nodes\n",
    "                elif visited[node] < visited[min_node]: #if the distance of the current node is less then the previous\n",
    "                    min_node = node #finding the minimum distance node (updating the previous value)\n",
    "\n",
    "        if min_node is None:\n",
    "            break\n",
    "\n",
    "        nodes.remove(min_node)#removing the minimum node from the list of unvisited\n",
    "        current_weight = visited[min_node] #distance from the minimum node\n",
    "\n",
    "        for edge in graph.edges[min_node]: #for all edges\n",
    "            weight = current_weight + graph.distances[(min_node, edge)] #calculation if the distances\n",
    "            if edge not in visited or weight < visited[edge]: #updating only when the node is not in the list \n",
    "                    #of visited or current weight is less then the previous\n",
    "                visited[edge] = weight\n",
    "                path[edge] = min_node\n",
    "\n",
    "    return visited, path"
   ]
  },
  {
   "cell_type": "code",
   "execution_count": 355,
   "metadata": {},
   "outputs": [],
   "source": [
    "class Graph:#Class definition\n",
    "    def __init__(self):\n",
    "        self.nodes = set()\n",
    "        self.edges = defaultdict(list)#A defaultdict works exactly like a normal dict, but it is initialized with \n",
    "        #a function (“default factory”) that takes no arguments and provides the default value for a nonexistent key.\n",
    "        self.distances = {}\n",
    "\n",
    "    def add_node(self, value):\n",
    "        self.nodes.add(value)\n",
    "\n",
    "    def add_edge(self, from_node, to_node, distance):\n",
    "        self.edges[from_node].append(to_node)\n",
    "        self.edges[to_node].append(from_node)\n",
    "        self.distances[(from_node, to_node)] = distance\n",
    "        self.distances[(to_node, from_node)] = distance\n"
   ]
  },
  {
   "cell_type": "code",
   "execution_count": 356,
   "metadata": {},
   "outputs": [
    {
     "name": "stdout",
     "output_type": "stream",
     "text": [
      "({'A': 0, 'B': 3, 'D': 1, 'E': 2, 'C': 7}, {'B': 'D', 'D': 'A', 'E': 'D', 'C': 'E'})\n"
     ]
    }
   ],
   "source": [
    "from collections import defaultdict\n",
    "g = Graph()\n",
    "g.add_node('A')\n",
    "g.add_node('B')\n",
    "g.add_node('C')\n",
    "g.add_node('D')\n",
    "g.add_node('E')\n",
    "\n",
    "g.add_edge('A', 'B', 6)\n",
    "g.add_edge('A', 'D', 1)\n",
    "g.add_edge('B', 'A', 6)\n",
    "g.add_edge('B', 'D', 2)\n",
    "g.add_edge('B', 'E', 2)\n",
    "g.add_edge('C', 'B', 5)\n",
    "g.add_edge('C', 'E', 5)\n",
    "g.add_edge('D', 'A', 1)\n",
    "g.add_edge('D', 'B', 2)\n",
    "g.add_edge('D', 'E', 1)\n",
    "g.add_edge('E', 'B', 2)\n",
    "g.add_edge('E', 'C', 5)\n",
    "g.add_edge('E', 'D', 1)\n",
    "\n",
    "\n",
    "\n",
    "print(dijsktra(g, 'A'))"
   ]
  },
  {
   "cell_type": "markdown",
   "metadata": {},
   "source": [
    "### Algorithms"
   ]
  },
  {
   "cell_type": "code",
   "execution_count": 358,
   "metadata": {},
   "outputs": [],
   "source": [
    "def searchMatrix(arr1, arr2): \n",
    "  \n",
    "    for i in range(len(arr1)): \n",
    "        for j in range(len(arr2)): \n",
    "            if arr1[i] == arr2[i]:\n",
    "                print('Element is found with index', i)\n",
    "                return True \n",
    "  \n",
    "    return False"
   ]
  },
  {
   "cell_type": "code",
   "execution_count": null,
   "metadata": {},
   "outputs": [],
   "source": [
    "def searchArray(arr, x): \n",
    "  \n",
    "    for i in range(len(arr)): \n",
    "  \n",
    "        if arr[i] == x:\n",
    "            Print('Element is found with index', i)\n",
    "            return True \n",
    "  \n",
    "    return False"
   ]
  },
  {
   "cell_type": "code",
   "execution_count": 361,
   "metadata": {},
   "outputs": [
    {
     "data": {
      "text/plain": [
       "13"
      ]
     },
     "execution_count": 361,
     "metadata": {},
     "output_type": "execute_result"
    }
   ],
   "source": [
    "def fib(n):\n",
    "    if n == 1: # first month\n",
    "        return 1\n",
    "    elif n == 2: # second month\n",
    "        return 1\n",
    "    else: # Recursive calls\n",
    "        return fib(n-1) + fib(n-2)\n",
    "fib(7)"
   ]
  },
  {
   "cell_type": "code",
   "execution_count": 362,
   "metadata": {},
   "outputs": [],
   "source": [
    "def factorial(n):\n",
    "    if n == 0:\n",
    "        return 1\n",
    "    else:\n",
    "        return n * factorial(n-1)"
   ]
  },
  {
   "cell_type": "code",
   "execution_count": null,
   "metadata": {},
   "outputs": [],
   "source": []
  }
 ],
 "metadata": {
  "kernelspec": {
   "display_name": "Python 3",
   "language": "python",
   "name": "python3"
  },
  "language_info": {
   "codemirror_mode": {
    "name": "ipython",
    "version": 3
   },
   "file_extension": ".py",
   "mimetype": "text/x-python",
   "name": "python",
   "nbconvert_exporter": "python",
   "pygments_lexer": "ipython3",
   "version": "3.6.8"
  }
 },
 "nbformat": 4,
 "nbformat_minor": 2
}
